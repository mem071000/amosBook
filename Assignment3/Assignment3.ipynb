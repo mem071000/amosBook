{
 "cells": [
  {
   "cell_type": "markdown",
   "metadata": {},
   "source": [
    "# Section 1 - Variable Names\n",
    "\n",
    "1. Think of three examples for bad variable names.\n",
    "    - Add the variable names to your notebook.\n",
    "    - Explain, why they are not a good choice.\n",
    "2. Think of three examples for good variable names.\n",
    "    - Add the variable names to your notebook.\n",
    "    - Explain, why they are a good choice."
   ]
  },
  {
   "cell_type": "code",
   "execution_count": 1,
   "metadata": {},
   "outputs": [],
   "source": [
    "# Bad Variable Name Examples.\n",
    "x = \"A bad variable because it is non-descriptive and unless used as a temporary loop variable, \\\n",
    "is easily confused and forgotten as to the purpose.\"\n",
    "number = \"A bad variable name because the name does not accurately describe the value.\"\n",
    "Variable = \"A bad variable name because it does not follow naming standards of lowercase_underscore \\\n",
    "or camelCase. It is also named something that is not descriptive as to the value.\"\n",
    "\n",
    "# Good Variable Name Examples.\n",
    "definitionOfGoodVariable = \"This is a good variable because it follows name conventions and \\\n",
    "describes the content assigned to it\"\n",
    "author_name = \"Follows name conventions and if set to a person's name describes the value\"\n",
    "top40Rank = \"First place name as it follows convetions and describes what the material value is.\""
   ]
  },
  {
   "cell_type": "markdown",
   "metadata": {},
   "source": [
    "# Section 2 - Variable Names and Readability of Code"
   ]
  },
  {
   "cell_type": "code",
   "execution_count": 2,
   "metadata": {},
   "outputs": [
    {
     "name": "stdout",
     "output_type": "stream",
     "text": [
      "$500.00\n"
     ]
    }
   ],
   "source": [
    "# This portion of code calcuates and displays my weekly salary.\n",
    "# Salary formula: $pay = $hourly rate * #hours worked\n",
    "weeklyHoursWorked = 40.0\n",
    "hourlySalary = 12.5\n",
    "weeklyPaycheck = weeklyHoursWorked * hourlySalary\n",
    "\n",
    "# Displays my weekly pay in USD formatted to the penny.\n",
    "print(f\"${weeklyPaycheck:.2f}\")"
   ]
  },
  {
   "cell_type": "markdown",
   "metadata": {},
   "source": [
    "# Section 3 - String Methods"
   ]
  },
  {
   "cell_type": "code",
   "execution_count": 3,
   "metadata": {},
   "outputs": [
    {
     "name": "stdout",
     "output_type": "stream",
     "text": [
      "Tarrant County\n",
      "Texas\n"
     ]
    }
   ],
   "source": [
    "# The most useful string method that I use in daily life is the split() method\n",
    "# This is useful for separating all values to ensure all substrings are used in the desired format.\n",
    "\n",
    "censusLocation = \"Tarrant County, Texas\"\n",
    "splitLocation = censusLocation.split(\", \")\n",
    "countyName = splitLocation[0]\n",
    "stateName = splitLocation[1]\n",
    "print(countyName)\n",
    "print(stateName)"
   ]
  },
  {
   "cell_type": "markdown",
   "metadata": {},
   "source": [
    "- String Methods\n",
    "    - Description of the method\n",
    "    - Useage for the method\n",
    "- count()\n",
    "    - Returns the number of times a specified value occurs in a string\n",
    "    - Useful for knowing how many words are in a street name\n",
    "- endswith()\n",
    "    - Returns true if the string ends with the specified value\n",
    "    - Useful for finding state/zip code matched data\n",
    "- expandtabs()\n",
    "    - Sets the tab size of the string\n",
    "    - Used for formatting a string to be a specified length\n",
    "- find() rfind()\n",
    "    - Searches the string for a specified value and returns the position of where it was found\n",
    "    - Useful to ensure that a certain substring is included in the string and/or set the substring index\n",
    "- format_map()\n",
    "    - Formats specified values in a string\n",
    "    - Sets a coordinate definition for a map\n",
    "- index() rindex()\n",
    "    - Searches the string for a specified value and returns the position of where it was found\n",
    "    - Useful to help identify substring start/stop position\n",
    "- isalnum()\n",
    "    - Returns True if all characters in the string are alphanumeric\n",
    "    - String validation for errors due to use of special characters\n",
    "- isalpha()\n",
    "    - Returns True if all characters in the string are in the alphabet\n",
    "    - Could be used to determine if a street address is just the name of the street or also the house number\n",
    "- isnumeric()\n",
    "    - Returns True if all characters in the string are numeric\n",
    "    - Could be used to determine if a zip code is formatted in the traditional 7 or new 12 digit format\n",
    "- isspace()\n",
    "    - Returns True if all characters in the string are whitespaces\n",
    "    - Useful in combination with split to ensure that one index of the split isn't a false value and contains useful information\n",
    "- replace()\n",
    "    - Returns a string where a specified value is replaced with a specified value\n",
    "    - Useful to replace street name endings/abbreviations with the long form or vice versa\n",
    "- split()\n",
    "    - Splits the string at the specified separator, and returns a list\n",
    "    - Used to split a concatenated string based on a character. Useful for separating a full address into it's parts.\n",
    "- strip() lstrip() rstrip()\n",
    "    - Returns a trimmed version of the string\n",
    "    - Clears leading and trailing white space. Useful for helping standardize data from many different sources.\n",
    "- title()\n",
    "    - Converts the first character of each word to upper case\n",
    "    - Useful as cities, street names, etc. are proper nouns!\n",
    "- upper()\n",
    "    - Converts a string into upper case\n",
    "    - Useful for states/acronyms, making street signs, etc."
   ]
  },
  {
   "cell_type": "code",
   "execution_count": 4,
   "metadata": {},
   "outputs": [
    {
     "name": "stdout",
     "output_type": "stream",
     "text": [
      "MAIN STREET\n",
      "MAIN ST.\n",
      "False\n",
      "True\n",
      "Main Street\n"
     ]
    }
   ],
   "source": [
    "# Python application examples for the 5 chosen string methods.\n",
    "\n",
    "# Upper converts all characters for printing street signs\n",
    "streetSign = \"main street\".upper()\n",
    "print(streetSign)\n",
    "# Replace can be used to shorten the street name for easier reading\n",
    "abreviatedStreet = streetSign.replace(\"STREET\", \"ST.\")\n",
    "print(abreviatedStreet)\n",
    "\n",
    "address = \"Main Street, Oklahoma City, OK\"\n",
    "# Isalnum checks if the address is alpha-numeric. This can identify the difference between a street and a house address\n",
    "hasFullAddress = address.isalnum()\n",
    "print(hasFullAddress)\n",
    "# Endswith used to see if the field in question is in the desired state studying\n",
    "isInOklahoma = address.endswith(\"OK\")\n",
    "print(isInOklahoma)\n",
    "# Index can be used to determine the break between a multi-word street name and the city in an address.\n",
    "address.index(\",\")\n",
    "print(address[:address.index(\",\")])"
   ]
  },
  {
   "cell_type": "code",
   "execution_count": null,
   "metadata": {},
   "outputs": [],
   "source": []
  }
 ],
 "metadata": {
  "kernelspec": {
   "display_name": "ArcGISPro",
   "language": "Python",
   "name": "python3"
  },
  "language_info": {
   "file_extension": ".py",
   "name": "python",
   "version": "3"
  }
 },
 "nbformat": 4,
 "nbformat_minor": 2
}
