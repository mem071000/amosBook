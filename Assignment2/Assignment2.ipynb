{
 "cells": [
  {
   "cell_type": "markdown",
   "metadata": {},
   "source": [
    "# Assignment 2"
   ]
  },
  {
   "cell_type": "markdown",
   "metadata": {
    "heading_collapsed": true
   },
   "source": [
    "## Part 01"
   ]
  },
  {
   "cell_type": "code",
   "execution_count": 1,
   "metadata": {
    "hidden": true
   },
   "outputs": [
    {
     "ename": "NameError",
     "evalue": "name 'Dessert' is not defined",
     "output_type": "error",
     "traceback": [
      "\u001b[0;31m---------------------------------------------------------------------------\u001b[0m\n\u001b[0;31mNameError\u001b[0m                                 Traceback (most recent call last)",
      "In  \u001b[0;34m[1]\u001b[0m:\nLine \u001b[0;34m3\u001b[0m:     \u001b[36mprint\u001b[39;49;00m(Dessert)\n",
      "\u001b[0;31mNameError\u001b[0m: name 'Dessert' is not defined\n\u001b[0;31m---------------------------------------------------------------------------\u001b[0m"
     ]
    }
   ],
   "source": [
    "# This is a RuntimeError (and NameError)\n",
    "dessert = \"cake\"\n",
    "print(Dessert)"
   ]
  },
  {
   "cell_type": "code",
   "execution_count": 2,
   "metadata": {
    "hidden": true
   },
   "outputs": [
    {
     "ename": "IndexError",
     "evalue": "string index out of range",
     "output_type": "error",
     "traceback": [
      "\u001b[0;31m---------------------------------------------------------------------------\u001b[0m\n\u001b[0;31mIndexError\u001b[0m                                Traceback (most recent call last)",
      "In  \u001b[0;34m[2]\u001b[0m:\nLine \u001b[0;34m3\u001b[0m:     dessert[\u001b[36mlen\u001b[39;49;00m(dessert)]\n",
      "\u001b[0;31mIndexError\u001b[0m: string index out of range\n\u001b[0;31m---------------------------------------------------------------------------\u001b[0m"
     ]
    }
   ],
   "source": [
    "# This is an IndexError\n",
    "dessert = \"cake\"\n",
    "dessert[len(dessert)]"
   ]
  },
  {
   "cell_type": "code",
   "execution_count": 4,
   "metadata": {
    "hidden": true
   },
   "outputs": [
    {
     "ename": "TypeError",
     "evalue": "'str' object does not support item assignment",
     "output_type": "error",
     "traceback": [
      "\u001b[0;31m---------------------------------------------------------------------------\u001b[0m\n\u001b[0;31mTypeError\u001b[0m                                 Traceback (most recent call last)",
      "In  \u001b[0;34m[4]\u001b[0m:\nLine \u001b[0;34m3\u001b[0m:     dessert[\u001b[34m0\u001b[39;49;00m] = \u001b[33m'\u001b[39;49;00m\u001b[33ml\u001b[39;49;00m\u001b[33m'\u001b[39;49;00m\n",
      "\u001b[0;31mTypeError\u001b[0m: 'str' object does not support item assignment\n\u001b[0;31m---------------------------------------------------------------------------\u001b[0m"
     ]
    }
   ],
   "source": [
    "# This is a TypeError\n",
    "dessert = \"cake\"\n",
    "dessert[0] = 'l'"
   ]
  },
  {
   "cell_type": "code",
   "execution_count": 5,
   "metadata": {
    "hidden": true
   },
   "outputs": [
    {
     "ename": "TypeError",
     "evalue": "unsupported operand type(s) for +: 'int' and 'str'",
     "output_type": "error",
     "traceback": [
      "\u001b[0;31m---------------------------------------------------------------------------\u001b[0m\n\u001b[0;31mTypeError\u001b[0m                                 Traceback (most recent call last)",
      "In  \u001b[0;34m[5]\u001b[0m:\nLine \u001b[0;34m2\u001b[0m:     dessert = \u001b[34m3\u001b[39;49;00m + \u001b[33m\"\u001b[39;49;00m\u001b[33mcakes\u001b[39;49;00m\u001b[33m\"\u001b[39;49;00m\n",
      "\u001b[0;31mTypeError\u001b[0m: unsupported operand type(s) for +: 'int' and 'str'\n\u001b[0;31m---------------------------------------------------------------------------\u001b[0m"
     ]
    }
   ],
   "source": [
    "# This is also a TypeError\n",
    "dessert = 3 + \"cakes\""
   ]
  },
  {
   "cell_type": "markdown",
   "metadata": {
    "heading_collapsed": true
   },
   "source": [
    "## Part 02"
   ]
  },
  {
   "cell_type": "code",
   "execution_count": 6,
   "metadata": {
    "hidden": true
   },
   "outputs": [
    {
     "name": "stdout",
     "output_type": "stream",
     "text": [
      "Hello World!\n",
      "Hello World!\n",
      "Hello World!\n",
      "How are you?\n",
      "I’m fine\n",
      "'Of course,' she said.\n",
      "\"I'm fine,\" she said.\n"
     ]
    }
   ],
   "source": [
    "# The line: print(‘Hello World!”) results in the following error:\n",
    "# SyntaxError: An invalid character in identifier, an issue with a string.\n",
    "# The problem is a mismatch in the quotation marks, it needs to be a pair of single/double.\n",
    "print('Hello World!')\n",
    "\n",
    "# The line: print(\"Hello World!\") does not result in an error.\n",
    "print(\"Hello World!\")\n",
    "\n",
    "# The line: print(“Hello World!’) results in the following error:\n",
    "# SyntaxError: An invalid character in identifier, an issue with a string.\n",
    "# The problem is a mismatch in the quotation marks, it needs to be a pair of single/double.\n",
    "print(\"Hello World!\")\n",
    "\n",
    "# The line: print(‘How are you?) results in the following error:\n",
    "# SyntaxError: An invalid character in identifier, an issue with a string.\n",
    "# The problem is an uneven quotation, the string needs to be bookmarked by quotations.\n",
    "print('How are you?')\n",
    "\n",
    "# The line: print(“I’m fine’) results in the following error:\n",
    "# SyntaxError: An invalid character in identifier, an issue with a string.\n",
    "# The problem is a mismatch in the quotation marks, it needs to be a pair of double quotes\n",
    "#      (since the single quote is used inline).\n",
    "print(\"I’m fine\")\n",
    "\n",
    "# The line: print(‘’Of course,’ she said.’) results in the following error:\n",
    "# SyntaxError: An invalid character in identifier, an issue with a string.\n",
    "# There are several problems here:\n",
    "# 1. The line starts with a single quote empty string.\n",
    "# 2. This leads to the second problem, there is text not between quotations.\n",
    "# 3. This line is itself a quote, so we need both single and double quotes (or escape character).\n",
    "print(\"'Of course,' she said.\")\n",
    "\n",
    "# The line: print(‘“I’m fine,” she said.’) results in the following error:\n",
    "# SyntaxError: An invalid character in identifier, an issue with a string.\n",
    "# There are several problems here:\n",
    "# 1. There is text not between quotations.\n",
    "# 2. This line is itself a quote and has a contraction, so it needs both single and double quotes.\n",
    "# 3. This means that we need to use the escape character to prevent the string from ending short.\n",
    "print('\"I\\'m fine,\" she said.')"
   ]
  },
  {
   "cell_type": "markdown",
   "metadata": {},
   "source": [
    "## Part 03"
   ]
  },
  {
   "cell_type": "code",
   "execution_count": 7,
   "metadata": {},
   "outputs": [
    {
     "name": "stdout",
     "output_type": "stream",
     "text": [
      "Python Code\t\t\t|\tException Name\n",
      "--------------------------\t|\t---------------------\n",
      "Max\t\t\t\t|\tNameError: variable not defined\n",
      "int(‘five’)\t\t\t|\tValueError: invalid literal for int() with base 10\n",
      "10/0.0\t\t\t\t|\tZeroDivisionError: float division by zero\n",
      "in = ‘input1.shp’\t\t|\tSyntaxError: invalid syntax\n",
      "‘five’ + 6\t\t\t|\tTypeError: can only concatenate str (not \"int\") to str\n",
      "1st_input = ‘nlcd2010.shp’\t|\tSyntaxError: invalid syntax\n"
     ]
    }
   ],
   "source": [
    "print('Python Code' + '\\t\\t\\t|\\t' + 'Exception Name')\n",
    "print('--------------------------' + '\\t|\\t' + '---------------------')\n",
    "print('Max' + '\\t\\t\\t\\t|\\t' + 'NameError: variable not defined')\n",
    "print(\"int(‘five’)\" + '\\t\\t\\t|\\t' + 'ValueError: invalid literal for int() with base 10')\n",
    "print('10/0.0' + '\\t\\t\\t\\t|\\t' + 'ZeroDivisionError: float division by zero')\n",
    "print(\"in = ‘input1.shp’\" + '\\t\\t|\\t' + 'SyntaxError: invalid syntax')\n",
    "print(\"‘five’ + 6\" + '\\t\\t\\t|\\t' + 'TypeError: can only concatenate str (not \"int\") to str')\n",
    "print(\"1st_input = ‘nlcd2010.shp’\" + '\\t|\\t' + 'SyntaxError: invalid syntax')"
   ]
  },
  {
   "cell_type": "code",
   "execution_count": 8,
   "metadata": {},
   "outputs": [
    {
     "name": "stdout",
     "output_type": "stream",
     "text": [
      "The final output is just the string of the course number: '4653'.\n",
      "The final value of course_number is: gis 4653.\n",
      "This is the expected output because although .replace and .upper will do the action, it only does it tempoarily for the one line. \n",
      "Since the functions are not immutable, they do not update the value of the variable, so the final output is the same as the input.\n"
     ]
    }
   ],
   "source": [
    "course_number = \"gis 4653\"\n",
    "course_number.replace('4', '5')\n",
    "course_number.upper()\n",
    "course_number[4:]\n",
    "\n",
    "print(\"The final output is just the string of the course number: '4653'.\")\n",
    "print(\"The final value of course_number is: gis 4653.\")\n",
    "print(\"This is the expected output because although .replace and .upper will do the action, \\\n",
    "it only does it tempoarily for the one line. \\n\\\n",
    "Since the functions are not immutable, they do not update the value of the variable, \\\n",
    "so the final output is the same as the input.\")"
   ]
  },
  {
   "cell_type": "code",
   "execution_count": null,
   "metadata": {},
   "outputs": [],
   "source": []
  }
 ],
 "metadata": {
  "kernelspec": {
   "display_name": "ArcGISPro",
   "language": "Python",
   "name": "python3"
  },
  "language_info": {
   "file_extension": ".py",
   "name": "python",
   "version": "3"
  }
 },
 "nbformat": 4,
 "nbformat_minor": 2
}
