{
 "cells": [
  {
   "cell_type": "markdown",
   "metadata": {},
   "source": [
    "# Section 1 - Stepwise creation of SQL queries\n",
    "\n",
    "Use a stepwise approach to develop an SQL query in Python.\n",
    "\n",
    "- Use the following data: TL 2019 US Count\n",
    "    - Query 1: Select all counties in Alaska (STATEFP for Alaska is '02')\n",
    "    - Query 2: Select all counties in Oregon, Montana, and Washington (STATEFPs: OR is '41', MT is '30', WA is '53')\n",
    "- Use the following data:  builtupp_usa.shp_nt00899.tar.gz\n",
    "    - Query 3: Select all cities with a population that is equal to or greater than 500,000\n",
    "    - Query 4: Select all cities with the name Albany\n",
    "    - Query 5: Select all cities with a population between 10,000 and 100,000\n",
    "\n",
    "\n",
    "For each of the queries, follow these steps:\n",
    "\n",
    "- ArcGIS Pro:\n",
    "    1. Open the respective dataset in ArcGIS Pro\n",
    "    2. Open the attribute table and use the Select By Attributes functionality. Create a New Expression in SQL\n",
    "    3. Use the Select By Attributes dialog to construct the specified query\n",
    "    4. Apply the query to make sure that it is correct and produces the specified selection\n",
    "\n",
    "- Jupyter Notebook\n",
    "    1. Copy the query from the Select by Attributes dialog to your notebook\n",
    "    2. Convert the copied query into a string literal (pay special attention to the use of quotes)\n",
    "    3. Assign the string literal to a string variable (use a variable name of your choice)\n",
    "    4. Copy and paste the string variable and literal to practice the use of format()\n",
    "    5. Create a variable for each column name (field name) or value that is part of your query string literal\n",
    "    6. Use the format() method in combination with your variables to create the query string literal and save it in a variable named query_X (update the X with the number for the different queries)\n",
    "    7. print query_X to see the results "
   ]
  },
  {
   "cell_type": "code",
   "execution_count": 22,
   "metadata": {},
   "outputs": [
    {
     "name": "stdout",
     "output_type": "stream",
     "text": [
      "\"STATEFP\" = '02'\n"
     ]
    }
   ],
   "source": [
    "query_one = '\"STATEFP\" = \\'02\\''\n",
    "field_name = \"STATEFP\"\n",
    "value = \"02\"\n",
    "query_1 = '\"{0}\" = \\'{1}\\''.format(field_name, value)\n",
    "print(query_1)"
   ]
  },
  {
   "cell_type": "code",
   "execution_count": 24,
   "metadata": {},
   "outputs": [
    {
     "name": "stdout",
     "output_type": "stream",
     "text": [
      "\"STATEFP\" = '41' Or \"STATEFP\" = '30' Or \"STATEFP\" = '53'\n"
     ]
    }
   ],
   "source": [
    "query_two = '\"STATEFP\" = \\'41\\' Or \"STATEFP\" = \\'30\\' Or \"STATEFP\" = \\'53\\''\n",
    "states = [\"41\", \"30\", \"53\"]\n",
    "field_name = \"STATEFP\"\n",
    "query_2 = \"\"\n",
    "\n",
    "for i in range(len(state)):\n",
    "    query_2 = query_2 + '\"{0}\" = \\'{1}\\''.format(field_name, states[i])\n",
    "    if(i < len(state)-1):\n",
    "        query_2 = query_2 + ' Or '\n",
    "\n",
    "print(query_2)"
   ]
  },
  {
   "cell_type": "code",
   "execution_count": 26,
   "metadata": {},
   "outputs": [
    {
     "name": "stdout",
     "output_type": "stream",
     "text": [
      "\"pop\" >= 500000\n"
     ]
    }
   ],
   "source": [
    "query_three = '\"pop\" >= 500000'\n",
    "field_name = \"pop\"\n",
    "value = 500000\n",
    "query_3 = '\"{0}\" >= {1}'.format(field_name, value)\n",
    "\n",
    "print(query_3)"
   ]
  },
  {
   "cell_type": "code",
   "execution_count": 28,
   "metadata": {},
   "outputs": [
    {
     "name": "stdout",
     "output_type": "stream",
     "text": [
      "\"nam\" = 'Albany'\n"
     ]
    }
   ],
   "source": [
    "query_four = '\"nam\" = \\'Albany\\''\n",
    "field_name = \"nam\"\n",
    "value = 'Albany'\n",
    "query_4 = '\"{0}\" = \\'{1}\\''.format(field_name, value)\n",
    "\n",
    "print(query_4)"
   ]
  },
  {
   "cell_type": "code",
   "execution_count": 29,
   "metadata": {},
   "outputs": [
    {
     "name": "stdout",
     "output_type": "stream",
     "text": [
      "\"pop\" >= 10000 And \"pop\" <= 100000\n"
     ]
    }
   ],
   "source": [
    "query_five = '\"pop\">= 10000 And \"pop\" <= 100000'\n",
    "populations = [10000, 100000]\n",
    "field_name = \"pop\"\n",
    "\n",
    "query_5 = '\"{0}\" >= {1} And \"{0}\" <= {2}'.format(field_name, min(populations), max(populations))\n",
    "\n",
    "print(query_5)"
   ]
  },
  {
   "cell_type": "markdown",
   "metadata": {},
   "source": [
    "# Section 2 - Select counties in three states\n",
    "\n",
    "- Ask the user of your script for three different states to select in your query (use the STATEFP to identify the states)\n",
    "- Use the format() method to create your string literal, using the field name and the three state identifiers as arguments for calling the format() method\n",
    "- Print the resulting string literal and double-check the use and nesting of quotes"
   ]
  },
  {
   "cell_type": "code",
   "execution_count": 1,
   "metadata": {},
   "outputs": [
    {
     "name": "stdout",
     "output_type": "stream",
     "text": [
      "43\n"
     ]
    }
   ],
   "source": [
    "import arcpy\n",
    "from arcpy import env\n",
    "# Create a dictionary mapping the states to their number.\n",
    "state_num = {\n",
    "    \"Alabama\": \"01\",\n",
    "    \"Alaska\": \"02\",\n",
    "    \"Arizona\": \"03\",\n",
    "    \"Arkansas\": \"04\",\n",
    "    \"California\": \"05\",\n",
    "    \"Colorado\": \"06\",\n",
    "    \"Connecticut\": \"07\",\n",
    "    \"Delaware\": \"08\",\n",
    "    \"Florida\": \"09\",\n",
    "    \"Georgia\": \"10\",\n",
    "    \"Hawaii\": \"11\",\n",
    "    \"Idaho\": \"12\",\n",
    "    \"Illinois\": \"13\",\n",
    "    \"Indiana\": \"14\",\n",
    "    \"Iowa\": \"15\",\n",
    "    \"Kansas\": \"16\",\n",
    "    \"Kentucky\": \"17\",\n",
    "    \"Louisiana\": \"18\",\n",
    "    \"Maine\": \"19\",\n",
    "    \"Maryland\": \"20\",\n",
    "    \"Massachusetts\": \"21\",\n",
    "    \"Michigan\": \"22\",\n",
    "    \"Minnesota\": \"23\",\n",
    "    \"Mississippi\": \"24\",\n",
    "    \"Missouri\": \"25\",\n",
    "    \"Montana\": \"26\",\n",
    "    \"Nebraska\": \"27\",\n",
    "    \"Nevada\": \"28\",\n",
    "    \"New Hampshire\": \"29\",\n",
    "    \"New Jersey\": \"30\",\n",
    "    \"New Mexico\": \"31\",\n",
    "    \"New York\": \"32\",\n",
    "    \"North Carolina\": \"33\",\n",
    "    \"North Dakota\": \"34\",\n",
    "    \"Ohio\": \"35\",\n",
    "    \"Oklahoma\": \"36\",\n",
    "    \"Oregon\": \"37\",\n",
    "    \"Pennsylvania\": \"38\",\n",
    "    \"Rhode Island\": \"39\",\n",
    "    \"South Carolina\": \"40\",\n",
    "    \"South Dakota\": \"41\",\n",
    "    \"Tennessee\": \"42\",\n",
    "    \"Texas\": \"43\",\n",
    "    \"Utah\": \"44\",\n",
    "    \"Vermont\": \"45\",\n",
    "    \"Virginia\": \"46\",\n",
    "    \"Washington\": \"47\",\n",
    "    \"West Virginia\": \"48\",\n",
    "    \"Wisconsin\": \"49\",\n",
    "    \"Wyoming\": \"50\"\n",
    "}\n",
    "print(state_num[\"Texas\"])"
   ]
  },
  {
   "cell_type": "code",
   "execution_count": 8,
   "metadata": {},
   "outputs": [
    {
     "name": "stdout",
     "output_type": "stream",
     "text": [
      "Enter a state Name: hi\n",
      "That is not a state in the USA\n",
      "Enter a state Name: Ohio\n",
      "Enter a state Name: Texas\n",
      "Enter a state Name: Alaska\n",
      "\"STATEFP\" = '35' Or \"STATEFP\" = '43' Or \"STATEFP\" = '02'\n"
     ]
    }
   ],
   "source": [
    "states = []\n",
    "field_name = \"STATEFP\"\n",
    "query_county = \"\"\n",
    "env.workspace = \"C:\\\\Users\\\\Megan\\\\OneDrive\\\\Desktop\\\\School Documents\\\\Grad School\\\\GIS5653\\\\Week 5\"\n",
    "in_features = env.workspace + \"\\\\tl_2019_us_county\\\\tl_2019_us_county.shp\"\n",
    "out_feature_class = env.workspace + \"\\\\tl_2019_us_county\\\\output.shp\"\n",
    "where_clause = '\"CLASS\" = \\'4\\''\n",
    "\n",
    "# get 3 states from the customer and validate it's a state.\n",
    "while (len(states) < 3):\n",
    "    try:\n",
    "        test_state = input(\"Enter a state Name: \")\n",
    "        arcpy.Select_analysis(in_features, out_feature_class, '\"STATEFP\" = \\'{0}\\''.format(state_num[test_state]))\n",
    "        states.append(test_state)\n",
    "    except:\n",
    "        print(\"That is not a state in the USA\")\n",
    "\n",
    "# Desired Example format: '\"STATEFP\" = \\'41\\' Or \"STATEFP\" = \\'30\\' Or \"STATEFP\" = \\'53\\''\n",
    "for i in range(len(states)):\n",
    "    query_county = query_county + '\"{0}\" = \\'{1}\\''.format(field_name, state_num[states[i]])\n",
    "    if(i < len(states)-1):\n",
    "        query_county = query_county + ' Or '\n",
    "\n",
    "print(query_county)"
   ]
  },
  {
   "cell_type": "code",
   "execution_count": null,
   "metadata": {},
   "outputs": [],
   "source": []
  }
 ],
 "metadata": {
  "kernelspec": {
   "display_name": "ArcGISPro",
   "language": "Python",
   "name": "python3"
  },
  "language_info": {
   "file_extension": ".py",
   "name": "python",
   "version": "3"
  }
 },
 "nbformat": 4,
 "nbformat_minor": 2
}
