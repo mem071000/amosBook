{
 "cells": [
  {
   "cell_type": "markdown",
   "metadata": {},
   "source": [
    "# Section 1 - Perform a Clip"
   ]
  },
  {
   "cell_type": "code",
   "execution_count": 4,
   "metadata": {},
   "outputs": [],
   "source": [
    "# Arcpy does not work until it is imported. Only needs importing once per session.\n",
    "\n",
    "# Import system modules\n",
    "import arcpy"
   ]
  },
  {
   "cell_type": "code",
   "execution_count": 9,
   "metadata": {},
   "outputs": [
    {
     "data": {
      "text/html": [
       "<div class='gpresult'><h2>Messages</h2><div id='messages' data-messages='[\"Start Time: Sunday, July 31, 2022 12:26:07 AM\",\"Analyzing input features...\",\"Dissolving clip features...\",\"Clipping input features...\",\"Succeeded at Sunday, July 31, 2022 12:26:07 AM (Elapsed Time: 0.13 seconds)\"]' data-show='true'><div id = 'default' /></div></div>"
      ],
      "text/plain": [
       "<Result 'C:\\\\Users\\\\Megan\\\\OneDrive\\\\Desktop\\\\School Documents\\\\Grad School\\\\GIS5653\\\\Week 4\\\\Maine\\\\Output\\\\output.shp'>"
      ]
     },
     "execution_count": 9,
     "metadata": {},
     "output_type": "execute_result"
    }
   ],
   "source": [
    "# Demonstrates how to use the Clip function in a stand-alone script.\n",
    "# Description: Clip airports that fall within the county. \n",
    "\n",
    "# Set workspace to file location of input features\n",
    "arcpy.env.workspace = \"C:/Users/Megan/OneDrive/Desktop/School Documents/Grad School/GIS5653/Week 4/Maine/Maine\"\n",
    "\n",
    "# Set the local variables in_features, clip_features, out_feature_class.\n",
    "# in_features: the features to clip.\n",
    "# clip_features: the clip boundary.\n",
    "# out_feature_class: desired output shp.\n",
    "in_features = \"maine_airports.shp\"\n",
    "clip_features = \"maine_county.shp\"\n",
    "out_feature_class = \"C:/Users/Megan/OneDrive/Desktop/School Documents/Grad School/GIS5653/Week 4/Maine/Output/output.shp\"\n",
    "\n",
    "# Run Clip\n",
    "arcpy.analysis.Clip(in_features, clip_features, out_feature_class)"
   ]
  },
  {
   "cell_type": "markdown",
   "metadata": {
    "heading_collapsed": true
   },
   "source": [
    "# Section 2 - Find the Mistakes\n",
    "\n",
    "<div>\n",
    "    \n",
    "    cityList = ['Berlin', 'Portland\", 'London', 'Norman', 'Paris' \n",
    "        append(Raleigh) \n",
    "        for city of cityList: \n",
    "    print city\n",
    "</div>\n",
    "\n",
    "The intention behind this Python script is to extend a list by an additional element and then use  a   for- loop to print the  elements of the updated list, one at a time. However, the source code has several errors. Identify the errors, and provide the corrected source code."
   ]
  },
  {
   "cell_type": "code",
   "execution_count": 10,
   "metadata": {
    "hidden": true
   },
   "outputs": [
    {
     "name": "stdout",
     "output_type": "stream",
     "text": [
      "Berlin\n",
      "Portland\n",
      "London\n",
      "Norman\n",
      "Paris\n",
      "Raleigh\n"
     ]
    }
   ],
   "source": [
    "cityList = ['Berlin', 'Portland', 'London', 'Norman', 'Paris'] \n",
    "cityList.append('Raleigh') \n",
    "for city in cityList:\n",
    "    print(city)"
   ]
  },
  {
   "cell_type": "markdown",
   "metadata": {},
   "source": [
    "# Section 3 - Functions and Application Examples\n",
    "Write a Python geoprocessing script in a separate section in the Jupyter Notebook that has functioning code for the following arcpy functions:\n",
    "<div>\n",
    "    \n",
    "    ListFeatureClasses()\n",
    "    ListFiles()\n",
    "    ListRasters()\n",
    "    ListTables()\n",
    "</div>\n",
    "\n",
    "For each of the functions:\n",
    "- provide a description (use correct cell type),\n",
    "- create the Python code to call the function,\n",
    "- print the resulting list. \n",
    "- Test your code with the Main and nlcd_2011 datasets"
   ]
  },
  {
   "cell_type": "code",
   "execution_count": 30,
   "metadata": {},
   "outputs": [
    {
     "name": "stdout",
     "output_type": "stream",
     "text": [
      "Feature classes\n",
      "in Maine:  ['maine_airports.shp', 'maine_county.shp']\n",
      "in nlcd:  []\n",
      "\n",
      "Files\n",
      "in Maine:  ['maine_airports.CPG', 'maine_airports.dbf', 'maine_airports.prj', 'maine_airports.sbn', 'maine_airports.sbx', 'maine_airports.shp', 'maine_airports.shp.GEORGE.10376.17268.sr.lock', 'maine_airports.shp.GEORGE.14488.17268.sr.lock', 'maine_airports.shp.GEORGE.15376.17268.sr.lock', 'maine_airports.shp.GEORGE.5708.17268.sr.lock', 'maine_airports.shp.xml', 'maine_airports.shx', 'maine_county.CPG', 'maine_county.dbf', 'maine_county.prj', 'maine_county.sbn', 'maine_county.sbx', 'maine_county.shp', 'maine_county.shp.GEORGE.10376.17268.sr.lock', 'maine_county.shp.GEORGE.14488.17268.sr.lock', 'maine_county.shp.GEORGE.15376.17268.sr.lock', 'maine_county.shp.GEORGE.5708.17268.sr.lock', 'maine_county.shp.xml', 'maine_county.shx', 'output.shp.GEORGE.10376.17268.sr.lock', 'output.shp.GEORGE.14488.17268.sr.lock', 'output.shp.GEORGE.15376.17268.sr.lock', 'output.shp.GEORGE.5708.17268.sr.lock']\n",
      "in nlcd:  ['dblbnd.adf', 'hdr.adf', 'log', 'metadata.xml', 'prj.adf', 'sta.adf', 'vat.adf', 'w001001.adf', 'w001001x.adf']\n",
      "\n",
      "Rasters\n",
      "in Maine:  []\n",
      "in nlcd:  ['maine_nlcd0']\n",
      "\n",
      "Tables\n",
      "in Maine:  []\n",
      "in nlcd:  []\n"
     ]
    }
   ],
   "source": [
    "# Import system modules\n",
    "import arcpy\n",
    "\n",
    "# Set workspace to file location of input features\n",
    "workspace = \"C:/Users/Megan/OneDrive/Desktop/School Documents/Grad School/GIS5653/Week 4/\"\n",
    "maine = \"Maine/Maine\"\n",
    "nlcd = \"nlcd_2011/nlcd_2011/nlcd_2011\"\n",
    "\n",
    "# ListFeatureClasses() returns a list of all shapefiles within the current folder.\n",
    "print(\"Feature classes\")\n",
    "arcpy.env.workspace = workspace + maine\n",
    "print(\"in Maine: \", arcpy.ListFeatureClasses())\n",
    "arcpy.env.workspace = workspace + nlcd\n",
    "print(\"in nlcd: \", arcpy.ListFeatureClasses())\n",
    "\n",
    "# ListFiles() returns a list of all files in the specified folder.\n",
    "print(\"\\nFiles\")\n",
    "arcpy.env.workspace = workspace + maine\n",
    "print(\"in Maine: \", arcpy.ListFiles())\n",
    "arcpy.env.workspace = workspace + nlcd\n",
    "print(\"in nlcd: \", arcpy.ListFiles())\n",
    "\n",
    "# ListRasters() returns a list of all raster files within the current folder.\n",
    "print(\"\\nRasters\")\n",
    "arcpy.env.workspace = workspace + maine\n",
    "print(\"in Maine: \", arcpy.ListRasters())\n",
    "arcpy.env.workspace = workspace + nlcd\n",
    "print(\"in nlcd: \", arcpy.ListRasters())\n",
    "\n",
    "# ListTables() returns a list of all .csv or .xlsx files in the current folder.\n",
    "print(\"\\nTables\")\n",
    "arcpy.env.workspace = workspace + maine\n",
    "print(\"in Maine: \", arcpy.ListTables())\n",
    "arcpy.env.workspace = workspace + nlcd\n",
    "print(\"in nlcd: \", arcpy.ListTables())\n",
    "# neither dataset had a table to print."
   ]
  },
  {
   "cell_type": "code",
   "execution_count": null,
   "metadata": {},
   "outputs": [],
   "source": []
  }
 ],
 "metadata": {
  "kernelspec": {
   "display_name": "ArcGISPro",
   "language": "Python",
   "name": "python3"
  },
  "language_info": {
   "file_extension": ".py",
   "name": "python",
   "version": "3"
  }
 },
 "nbformat": 4,
 "nbformat_minor": 2
}
