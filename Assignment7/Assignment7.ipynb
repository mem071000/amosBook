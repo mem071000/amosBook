{
 "cells": [
  {
   "cell_type": "markdown",
   "metadata": {},
   "source": [
    "# Section 1\n",
    "\n",
    "The following Python code uses functions and a list method to provide the range of numerical values in a list. Write code that achieves the same output - printing the lowest and highest value in the list - but uses Python built-in functions instead.\n",
    "\n",
    "Here is a reference that lists the built-in functions: Built-in Functions (Python 3.96)\n",
    "\n",
    "\n",
    "- erosionClass = [5, 3, 5, 7, 6, 9, 2, 1, 1, 2]  \n",
    "\n",
    "- erosionClass.sort()  # Sort the numeric list \n",
    "\n",
    "- maxIndex = len(erosionClass) – 1  # Get index for last entry \n",
    "\n",
    "- print(“Lowest value: ”, erosionClass[0])\n",
    "\n",
    "- print(“Highest value: ”, erosionClass[maxIndex]) \n"
   ]
  },
  {
   "cell_type": "code",
   "execution_count": 1,
   "metadata": {},
   "outputs": [
    {
     "name": "stdout",
     "output_type": "stream",
     "text": [
      "Lowest value:  1\n",
      "Highest value:  9\n"
     ]
    }
   ],
   "source": [
    "erosionClass = [5, 3, 5, 7, 6, 9, 2, 1, 1, 2]\n",
    "\n",
    "print(\"Lowest value: \", min(erosionClass))\n",
    "print(\"Highest value: \", max(erosionClass))"
   ]
  },
  {
   "cell_type": "markdown",
   "metadata": {},
   "source": [
    "# Section 2 \n",
    "\n",
    "Add a section on list methods to your notebook\n",
    "\n",
    "Include the methods listed below\n",
    "\n",
    "Include a short description for each method\n",
    "\n",
    "Add and run a Python application example for each of the methods\n",
    "\n",
    "- listName.append(element)\n",
    "- listName.count(element)\n",
    "- listName.insert(index, element)\n",
    "- listName.extend(otherList)\n",
    "- listName.remove(element)\n",
    "- listName.index(element)\n",
    "- listName.pop(index)\n",
    "- listName.sort()\n",
    "- listName.reverse()"
   ]
  },
  {
   "cell_type": "code",
   "execution_count": 2,
   "metadata": {},
   "outputs": [
    {
     "name": "stdout",
     "output_type": "stream",
     "text": [
      "Append:  ['cat', 'dog', 'bunny', 'bird', 'fish']\n",
      "# of Dogs in list:  2\n",
      "# of Cats in list:  1\n",
      "Insert:  ['cat', 'dog', 'ferret', 'bunny', 'bird', 'fish', 'dog']\n",
      "Extend:  ['cat', 'dog', 'ferret', 'bunny', 'bird', 'fish', 'dog', 'guinea pig', 'gerbil']\n",
      "Remove:  ['cat', 'ferret', 'bunny', 'bird', 'fish', 'dog', 'guinea pig', 'gerbil']\n",
      "I still have a dog in the list at space:  5\n",
      "Pop:  ['cat', 'ferret', 'bunny', 'bird', 'fish', 'dog', 'gerbil']\n",
      "Sort:  ['cat', 'dog', 'bird', 'fish', 'bunny', 'ferret', 'gerbil']\n",
      "Reverse:  ['gerbil', 'ferret', 'bunny', 'fish', 'bird', 'dog', 'cat']\n"
     ]
    }
   ],
   "source": [
    "# Create a list to use as an example\n",
    "animals = [\"cat\", \"dog\", \"bunny\", \"bird\"]\n",
    "\n",
    "# Append adds the desired element to the end of an existing list.\n",
    "# listName.append(element)\n",
    "animals.append(\"fish\")\n",
    "print(\"Append: \", animals)\n",
    "\n",
    "# Count returns the number of instances of an element in the list.\n",
    "# listName.count(element)\n",
    "animals.append(\"dog\")\n",
    "print(\"# of Dogs in list: \", animals.count(\"dog\"))\n",
    "print(\"# of Cats in list: \", animals.count(\"cat\"))\n",
    "\n",
    "# Insert adds the desired element at the desired index (i) in the list,\n",
    "#shifting all other elements (indexed[i:len]) to [i+1:len+1].\n",
    "# listName.insert(index, element)\n",
    "animals.insert(2, \"ferret\")\n",
    "print(\"Insert: \", animals)\n",
    "\n",
    "# Extend extends the list by appending the otherList to the end increasing the size of listName.\n",
    "# listName.extend(otherList)\n",
    "animals.extend([\"guinea pig\",\"gerbil\"])\n",
    "print(\"Extend: \", animals)\n",
    "\n",
    "# Remove deletes the first instance of the desired value from the list.\n",
    "# All elements indexed higher than the one deleted are moved down one index.\n",
    "# listName.remove(element)\n",
    "animals.remove(\"dog\")\n",
    "print(\"Remove: \", animals)\n",
    "\n",
    "# Index finds the first index of the desired item. Errors if not found\n",
    "# listName.index(element)\n",
    "print(\"I still have a dog in the list at space: \", animals.index(\"dog\"))\n",
    "\n",
    "# Pop deletes the item in the last index location of the list. Reducing the length of the list by one.\n",
    "# listName.pop(index)\n",
    "animals.pop(6)\n",
    "print(\"Pop: \", animals)\n",
    "\n",
    "# Sort sorts the contents of the list in alpha-numerical order. Updates the list in place.\n",
    "# listName.sort()\n",
    "animals.sort(key = len)\n",
    "print(\"Sort: \", animals)\n",
    "\n",
    "# Reverses the current order of the list's indexes. If first calling sort, this would return Z-A sort.\n",
    "# listName.reverse()\n",
    "animals.reverse()\n",
    "print(\"Reverse: \", animals)"
   ]
  },
  {
   "cell_type": "code",
   "execution_count": null,
   "metadata": {},
   "outputs": [],
   "source": []
  }
 ],
 "metadata": {
  "kernelspec": {
   "display_name": "ArcGISPro",
   "language": "Python",
   "name": "python3"
  },
  "language_info": {
   "file_extension": ".py",
   "name": "python",
   "version": "3"
  }
 },
 "nbformat": 4,
 "nbformat_minor": 2
}
