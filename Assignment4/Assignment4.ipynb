{
 "cells": [
  {
   "cell_type": "markdown",
   "metadata": {},
   "source": [
    "# Section 1\n",
    "Create three functions that take in one string parameter called name and displays the translated text \"Good morning, <name>!\", where <name> is replaced by the value of the name parameter. The functions should also include a docstring (see pages 147/148 of Ames et al., 2021).\n",
    "\n",
    "## greetEnglish()\n",
    "\"Good morning, name!\".\n",
    "This function should use the approach of string concatenation described on the bottom of page 97 of Ames et al. (2021).\n",
    "\n",
    "## greetGerman()\n",
    "\"Guten Morgen, name!\".\n",
    "This function should use the f-strings approach of string formatting described on the top of page 98 of Ames et al. (2021).\n",
    "\n",
    "## greetLatin()\n",
    "\"Salve, name!\".\n",
    "This function should use the .format() string method as described on the bottom of page 98 of Ames et al. (2021)."
   ]
  },
  {
   "cell_type": "code",
   "execution_count": 1,
   "metadata": {},
   "outputs": [],
   "source": [
    "# Input: name-String, Function prints Good Morning, {name}.\n",
    "def greetEnglish(name):\n",
    "    \"\"\"Greets Good Morning in English to the input user's name.\"\"\"\n",
    "    print(\"Good morning, \" + name + \"!\")\n",
    "    \n",
    "# Input: name-String, Function prints Guten Morgen, {name}.\n",
    "def greetGerman(name):\n",
    "    \"\"\"Greets Good Morning in German to the input user's name.\"\"\"\n",
    "    print(f\"Guten Morgen, {name}!\")\n",
    "    \n",
    "# Input: name-String, Function prints Salve, {name}.\n",
    "def greetLatin(name):\n",
    "    \"\"\"Greets Good Morning in Latin to the input user's name.\"\"\"\n",
    "    print(\"Salve, {}!\".format(name))"
   ]
  },
  {
   "cell_type": "markdown",
   "metadata": {},
   "source": [
    "# Section 2\n",
    "Use IDLE to create a Python file called greetings.py.\n",
    "Make sure that the Python file is in the same folder as the Jupyter notebook for this exercise.\n",
    "Include the functions from \"1. Section - Write Functions\" in greetings.py.\n",
    "\n",
    "After importing the module into your notebook, use each of the three functions in the notebook."
   ]
  },
  {
   "cell_type": "code",
   "execution_count": 2,
   "metadata": {},
   "outputs": [
    {
     "name": "stdout",
     "output_type": "stream",
     "text": [
      "What is your name: Megan\n",
      "Good morning, Megan!\n",
      "Guten Morgen, Megan!\n",
      "Salve, Megan!\n"
     ]
    }
   ],
   "source": [
    "my_python_modules = r'C:\\Users\\Megan\\OneDrive\\Documents\\ArcGIS\\Projects\\GIS5653\\Assignment4'\n",
    "sys.path.append(my_python_modules)\n",
    "import greetings # a Python file within my_python_modules\n",
    "\n",
    "name = input(\"What is your name: \")\n",
    "greetings.greetEnglish(name)\n",
    "greetings.greetGerman(name)\n",
    "greetings.greetLatin(name)"
   ]
  },
  {
   "cell_type": "markdown",
   "metadata": {},
   "source": [
    "# Section 3\n",
    "\n",
    "Rewrite the program provided below making use of built-in functions. Start by thinking through what this program achieves, then rewrite the code to achieve the same result, but with fewer lines of code. Reflect and test which lines of code are necessary and which ones can be removed. Only include those lines of code necessary to achieve the intended outcome. If you are unsure which ones need to be included, use # to \"comment out\" one line at a time and test the effect.\n",
    "\n",
    "  count = 0\n",
    "  total = 0\n",
    "  numbers = [3, 6, 9, 12, 15]\n",
    "  for number in numbers:\n",
    "      total = total + number\n",
    "      count = count + 1\n",
    "  average = total / count\n",
    "  print(‘Average: ’, average)"
   ]
  },
  {
   "cell_type": "code",
   "execution_count": 3,
   "metadata": {},
   "outputs": [
    {
     "name": "stdout",
     "output_type": "stream",
     "text": [
      "Average:  9.0\n"
     ]
    }
   ],
   "source": [
    "# We still need the list of numbers!\n",
    "numbers = [3, 6, 9, 12, 15]\n",
    "\n",
    "# Using built in functions sum for total and len instead of count\n",
    "average = sum(numbers)/len(numbers)\n",
    "print(\"Average: \", average)"
   ]
  },
  {
   "cell_type": "code",
   "execution_count": null,
   "metadata": {},
   "outputs": [],
   "source": []
  }
 ],
 "metadata": {
  "kernelspec": {
   "display_name": "ArcGISPro",
   "language": "Python",
   "name": "python3"
  },
  "language_info": {
   "file_extension": ".py",
   "name": "python",
   "version": "3"
  }
 },
 "nbformat": 4,
 "nbformat_minor": 2
}
